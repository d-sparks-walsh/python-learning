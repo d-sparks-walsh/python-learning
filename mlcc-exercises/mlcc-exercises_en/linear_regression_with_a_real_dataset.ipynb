{
 "cells": [
  {
   "cell_type": "code",
   "execution_count": 0,
   "metadata": {
    "cellView": "form",
    "colab": {},
    "colab_type": "code",
    "id": "wDlWLbfkJtvu"
   },
   "outputs": [],
   "source": [
    "#@title Copyright 2020 Google LLC. Double-click here for license information.\n",
    "# Licensed under the Apache License, Version 2.0 (the \"License\");\n",
    "# you may not use this file except in compliance with the License.\n",
    "# You may obtain a copy of the License at\n",
    "#\n",
    "# https://www.apache.org/licenses/LICENSE-2.0\n",
    "#\n",
    "# Unless required by applicable law or agreed to in writing, software\n",
    "# distributed under the License is distributed on an \"AS IS\" BASIS,\n",
    "# WITHOUT WARRANTIES OR CONDITIONS OF ANY KIND, either express or implied.\n",
    "# See the License for the specific language governing permissions and\n",
    "# limitations under the License."
   ]
  },
  {
   "cell_type": "markdown",
   "metadata": {
    "colab_type": "text",
    "id": "TL5y5fY9Jy_x"
   },
   "source": [
    "# Linear Regression with a Real Dataset\n",
    "\n",
    "This Colab uses a real dataset to predict the prices of houses in California.   \n",
    "\n",
    "\n",
    "\n",
    "\n"
   ]
  },
  {
   "cell_type": "markdown",
   "metadata": {
    "colab_type": "text",
    "id": "h8wtceyJj2uX"
   },
   "source": [
    "## Learning Objectives:\n",
    "\n",
    "After doing this Colab, you'll know how to do the following:\n",
    "\n",
    "  * Read a .csv file into a [pandas](https://developers.google.com/machine-learning/glossary/#pandas) DataFrame.\n",
    "  * Examine a [dataset](https://developers.google.com/machine-learning/glossary/#data_set). \n",
    "  * Experiment with different [features](https://developers.google.com/machine-learning/glossary/#feature) in building a model.\n",
    "  * Tune the model's [hyperparameters](https://developers.google.com/machine-learning/glossary/#hyperparameter)."
   ]
  },
  {
   "cell_type": "markdown",
   "metadata": {
    "colab_type": "text",
    "id": "JJZEgJQSjyK4"
   },
   "source": [
    "## The Dataset\n",
    "  \n",
    "The [dataset for this exercise](https://developers.google.com/machine-learning/crash-course/california-housing-data-description) is based on 1990 census data from California. The dataset is old but still provides a great opportunity to learn about machine learning programming."
   ]
  },
  {
   "cell_type": "markdown",
   "metadata": {
    "colab_type": "text",
    "id": "tX_umRMMsa3z"
   },
   "source": [
    "## Use the right version of TensorFlow\n",
    "\n",
    "The following hidden code cell ensures that the Colab will run on TensorFlow 2.X."
   ]
  },
  {
   "cell_type": "code",
   "execution_count": 1,
   "metadata": {
    "cellView": "form",
    "colab": {},
    "colab_type": "code",
    "id": "lM75uNH-sTv2"
   },
   "outputs": [
    {
     "name": "stderr",
     "output_type": "stream",
     "text": [
      "UsageError: Line magic function `%tensorflow_version` not found.\n"
     ]
    }
   ],
   "source": [
    "#@title Run on TensorFlow 2.x\n",
    "%tensorflow_version 2.x"
   ]
  },
  {
   "cell_type": "markdown",
   "metadata": {
    "colab_type": "text",
    "id": "xchnxAsaKKqO"
   },
   "source": [
    "## Import relevant modules\n",
    "\n",
    "The following hidden code cell imports the necessary code to run the code in the rest of this Colaboratory."
   ]
  },
  {
   "cell_type": "code",
   "execution_count": 2,
   "metadata": {
    "cellView": "form",
    "colab": {},
    "colab_type": "code",
    "id": "9n9_cTveKmse"
   },
   "outputs": [],
   "source": [
    "#@title Import relevant modules\n",
    "import pandas as pd\n",
    "import tensorflow as tf\n",
    "from matplotlib import pyplot as plt\n",
    "\n",
    "# The following lines adjust the granularity of reporting. \n",
    "pd.options.display.max_rows = 10\n",
    "pd.options.display.float_format = \"{:.1f}\".format"
   ]
  },
  {
   "cell_type": "markdown",
   "metadata": {
    "colab_type": "text",
    "id": "X_TaJhU4KcuY"
   },
   "source": [
    "## The dataset\n",
    "\n",
    "Datasets are often stored on disk or at a URL in [.csv format](https://wikipedia.org/wiki/Comma-separated_values). \n",
    "\n",
    "A well-formed .csv file contains column names in the first row, followed by many rows of data.  A comma divides each value in each row. For example, here are the first five rows of the .csv file file holding the California Housing Dataset:\n",
    "\n",
    "```\n",
    "\"longitude\",\"latitude\",\"housing_median_age\",\"total_rooms\",\"total_bedrooms\",\"population\",\"households\",\"median_income\",\"median_house_value\"\n",
    "-114.310000,34.190000,15.000000,5612.000000,1283.000000,1015.000000,472.000000,1.493600,66900.000000\n",
    "-114.470000,34.400000,19.000000,7650.000000,1901.000000,1129.000000,463.000000,1.820000,80100.000000\n",
    "-114.560000,33.690000,17.000000,720.000000,174.000000,333.000000,117.000000,1.650900,85700.000000\n",
    "-114.570000,33.640000,14.000000,1501.000000,337.000000,515.000000,226.000000,3.191700,73400.000000\n",
    "```\n",
    "\n"
   ]
  },
  {
   "cell_type": "markdown",
   "metadata": {
    "colab_type": "text",
    "id": "sSFQkzNlj-l6"
   },
   "source": [
    "### Load the .csv file into a pandas DataFrame\n",
    "\n",
    "This Colab, like many machine learning programs, gathers the .csv file and stores the data in memory as a pandas Dataframe.  pandas is an open source Python library.  The primary datatype in pandas is a DataFrame.  You can imagine a pandas DataFrame as a spreadsheet in which each row is identified by a number and each column by a name. pandas is itself built on another open source Python library called NumPy. If you aren't familiar with these technologies, please view these two quick tutorials:\n",
    "\n",
    "*   [NumPy](https://colab.research.google.com/github/google/eng-edu/blob/master/ml/cc/exercises/numpy_ultraquick_tutorial.ipynb?utm_source=linearregressionreal-colab&utm_medium=colab&utm_campaign=colab-external&utm_content=numpy_tf2-colab&hl=en)\n",
    "*   [Pandas DataFrames](https://colab.research.google.com/github/google/eng-edu/blob/master/ml/cc/exercises/pandas_dataframe_ultraquick_tutorial.ipynb?utm_source=linearregressionreal-colab&utm_medium=colab&utm_campaign=colab-external&utm_content=pandas_tf2-colab&hl=en)\n",
    "\n",
    "The following code cell imports the .csv file into a pandas DataFrame and scales the values in the label (`median_house_value`):"
   ]
  },
  {
   "cell_type": "code",
   "execution_count": 3,
   "metadata": {
    "colab": {},
    "colab_type": "code",
    "id": "JZlvdpyYKx7V"
   },
   "outputs": [
    {
     "data": {
      "text/html": [
       "<div>\n",
       "<style scoped>\n",
       "    .dataframe tbody tr th:only-of-type {\n",
       "        vertical-align: middle;\n",
       "    }\n",
       "\n",
       "    .dataframe tbody tr th {\n",
       "        vertical-align: top;\n",
       "    }\n",
       "\n",
       "    .dataframe thead th {\n",
       "        text-align: right;\n",
       "    }\n",
       "</style>\n",
       "<table border=\"1\" class=\"dataframe\">\n",
       "  <thead>\n",
       "    <tr style=\"text-align: right;\">\n",
       "      <th></th>\n",
       "      <th>longitude</th>\n",
       "      <th>latitude</th>\n",
       "      <th>housing_median_age</th>\n",
       "      <th>total_rooms</th>\n",
       "      <th>total_bedrooms</th>\n",
       "      <th>population</th>\n",
       "      <th>households</th>\n",
       "      <th>median_income</th>\n",
       "      <th>median_house_value</th>\n",
       "    </tr>\n",
       "  </thead>\n",
       "  <tbody>\n",
       "    <tr>\n",
       "      <th>0</th>\n",
       "      <td>-114.3</td>\n",
       "      <td>34.2</td>\n",
       "      <td>15.0</td>\n",
       "      <td>5612.0</td>\n",
       "      <td>1283.0</td>\n",
       "      <td>1015.0</td>\n",
       "      <td>472.0</td>\n",
       "      <td>1.5</td>\n",
       "      <td>66.9</td>\n",
       "    </tr>\n",
       "    <tr>\n",
       "      <th>1</th>\n",
       "      <td>-114.5</td>\n",
       "      <td>34.4</td>\n",
       "      <td>19.0</td>\n",
       "      <td>7650.0</td>\n",
       "      <td>1901.0</td>\n",
       "      <td>1129.0</td>\n",
       "      <td>463.0</td>\n",
       "      <td>1.8</td>\n",
       "      <td>80.1</td>\n",
       "    </tr>\n",
       "    <tr>\n",
       "      <th>2</th>\n",
       "      <td>-114.6</td>\n",
       "      <td>33.7</td>\n",
       "      <td>17.0</td>\n",
       "      <td>720.0</td>\n",
       "      <td>174.0</td>\n",
       "      <td>333.0</td>\n",
       "      <td>117.0</td>\n",
       "      <td>1.7</td>\n",
       "      <td>85.7</td>\n",
       "    </tr>\n",
       "    <tr>\n",
       "      <th>3</th>\n",
       "      <td>-114.6</td>\n",
       "      <td>33.6</td>\n",
       "      <td>14.0</td>\n",
       "      <td>1501.0</td>\n",
       "      <td>337.0</td>\n",
       "      <td>515.0</td>\n",
       "      <td>226.0</td>\n",
       "      <td>3.2</td>\n",
       "      <td>73.4</td>\n",
       "    </tr>\n",
       "    <tr>\n",
       "      <th>4</th>\n",
       "      <td>-114.6</td>\n",
       "      <td>33.6</td>\n",
       "      <td>20.0</td>\n",
       "      <td>1454.0</td>\n",
       "      <td>326.0</td>\n",
       "      <td>624.0</td>\n",
       "      <td>262.0</td>\n",
       "      <td>1.9</td>\n",
       "      <td>65.5</td>\n",
       "    </tr>\n",
       "  </tbody>\n",
       "</table>\n",
       "</div>"
      ],
      "text/plain": [
       "   longitude  latitude  housing_median_age  total_rooms  total_bedrooms  \\\n",
       "0     -114.3      34.2                15.0       5612.0          1283.0   \n",
       "1     -114.5      34.4                19.0       7650.0          1901.0   \n",
       "2     -114.6      33.7                17.0        720.0           174.0   \n",
       "3     -114.6      33.6                14.0       1501.0           337.0   \n",
       "4     -114.6      33.6                20.0       1454.0           326.0   \n",
       "\n",
       "   population  households  median_income  median_house_value  \n",
       "0      1015.0       472.0            1.5                66.9  \n",
       "1      1129.0       463.0            1.8                80.1  \n",
       "2       333.0       117.0            1.7                85.7  \n",
       "3       515.0       226.0            3.2                73.4  \n",
       "4       624.0       262.0            1.9                65.5  "
      ]
     },
     "execution_count": 3,
     "metadata": {},
     "output_type": "execute_result"
    }
   ],
   "source": [
    "# Import the dataset.\n",
    "training_df = pd.read_csv(filepath_or_buffer=\"https://download.mlcc.google.com/mledu-datasets/california_housing_train.csv\")\n",
    "\n",
    "# Scale the label.\n",
    "training_df[\"median_house_value\"] /= 1000.0\n",
    "\n",
    "# Print the first rows of the pandas DataFrame.\n",
    "training_df.head()"
   ]
  },
  {
   "cell_type": "markdown",
   "metadata": {
    "colab_type": "text",
    "id": "5inxx49n4U9u"
   },
   "source": [
    "Scaling `median_house_value` puts the value of each house in units of thousands. Scaling will keep loss values and learning rates in a friendlier range.  \n",
    "\n",
    "Although scaling a label is usually *not* essential, scaling features in a multi-feature model usually *is* essential."
   ]
  },
  {
   "cell_type": "markdown",
   "metadata": {
    "colab_type": "text",
    "id": "yMysi6-3IAbu"
   },
   "source": [
    "## Examine the dataset\n",
    "\n",
    "A large part of most machine learning projects is getting to know your data. The pandas API provides a `describe` function that outputs the following statistics about every column in the DataFrame:\n",
    "\n",
    "* `count`, which is the number of rows in that column. Ideally, `count` contains the same value for every column. \n",
    "\n",
    "* `mean` and `std`, which contain the mean and standard deviation of the values in each column. \n",
    "\n",
    "* `min` and `max`, which contain the lowest and highest values in each column.\n",
    "\n",
    "* `25%`, `50%`, `75%`, which contain various [quantiles](https://developers.google.com/machine-learning/glossary/#quantile)."
   ]
  },
  {
   "cell_type": "code",
   "execution_count": 4,
   "metadata": {
    "colab": {},
    "colab_type": "code",
    "id": "rnUSYKw4LUuh"
   },
   "outputs": [
    {
     "data": {
      "text/html": [
       "<div>\n",
       "<style scoped>\n",
       "    .dataframe tbody tr th:only-of-type {\n",
       "        vertical-align: middle;\n",
       "    }\n",
       "\n",
       "    .dataframe tbody tr th {\n",
       "        vertical-align: top;\n",
       "    }\n",
       "\n",
       "    .dataframe thead th {\n",
       "        text-align: right;\n",
       "    }\n",
       "</style>\n",
       "<table border=\"1\" class=\"dataframe\">\n",
       "  <thead>\n",
       "    <tr style=\"text-align: right;\">\n",
       "      <th></th>\n",
       "      <th>longitude</th>\n",
       "      <th>latitude</th>\n",
       "      <th>housing_median_age</th>\n",
       "      <th>total_rooms</th>\n",
       "      <th>total_bedrooms</th>\n",
       "      <th>population</th>\n",
       "      <th>households</th>\n",
       "      <th>median_income</th>\n",
       "      <th>median_house_value</th>\n",
       "    </tr>\n",
       "  </thead>\n",
       "  <tbody>\n",
       "    <tr>\n",
       "      <th>count</th>\n",
       "      <td>17000.0</td>\n",
       "      <td>17000.0</td>\n",
       "      <td>17000.0</td>\n",
       "      <td>17000.0</td>\n",
       "      <td>17000.0</td>\n",
       "      <td>17000.0</td>\n",
       "      <td>17000.0</td>\n",
       "      <td>17000.0</td>\n",
       "      <td>17000.0</td>\n",
       "    </tr>\n",
       "    <tr>\n",
       "      <th>mean</th>\n",
       "      <td>-119.6</td>\n",
       "      <td>35.6</td>\n",
       "      <td>28.6</td>\n",
       "      <td>2643.7</td>\n",
       "      <td>539.4</td>\n",
       "      <td>1429.6</td>\n",
       "      <td>501.2</td>\n",
       "      <td>3.9</td>\n",
       "      <td>207.3</td>\n",
       "    </tr>\n",
       "    <tr>\n",
       "      <th>std</th>\n",
       "      <td>2.0</td>\n",
       "      <td>2.1</td>\n",
       "      <td>12.6</td>\n",
       "      <td>2179.9</td>\n",
       "      <td>421.5</td>\n",
       "      <td>1147.9</td>\n",
       "      <td>384.5</td>\n",
       "      <td>1.9</td>\n",
       "      <td>116.0</td>\n",
       "    </tr>\n",
       "    <tr>\n",
       "      <th>min</th>\n",
       "      <td>-124.3</td>\n",
       "      <td>32.5</td>\n",
       "      <td>1.0</td>\n",
       "      <td>2.0</td>\n",
       "      <td>1.0</td>\n",
       "      <td>3.0</td>\n",
       "      <td>1.0</td>\n",
       "      <td>0.5</td>\n",
       "      <td>15.0</td>\n",
       "    </tr>\n",
       "    <tr>\n",
       "      <th>25%</th>\n",
       "      <td>-121.8</td>\n",
       "      <td>33.9</td>\n",
       "      <td>18.0</td>\n",
       "      <td>1462.0</td>\n",
       "      <td>297.0</td>\n",
       "      <td>790.0</td>\n",
       "      <td>282.0</td>\n",
       "      <td>2.6</td>\n",
       "      <td>119.4</td>\n",
       "    </tr>\n",
       "    <tr>\n",
       "      <th>50%</th>\n",
       "      <td>-118.5</td>\n",
       "      <td>34.2</td>\n",
       "      <td>29.0</td>\n",
       "      <td>2127.0</td>\n",
       "      <td>434.0</td>\n",
       "      <td>1167.0</td>\n",
       "      <td>409.0</td>\n",
       "      <td>3.5</td>\n",
       "      <td>180.4</td>\n",
       "    </tr>\n",
       "    <tr>\n",
       "      <th>75%</th>\n",
       "      <td>-118.0</td>\n",
       "      <td>37.7</td>\n",
       "      <td>37.0</td>\n",
       "      <td>3151.2</td>\n",
       "      <td>648.2</td>\n",
       "      <td>1721.0</td>\n",
       "      <td>605.2</td>\n",
       "      <td>4.8</td>\n",
       "      <td>265.0</td>\n",
       "    </tr>\n",
       "    <tr>\n",
       "      <th>max</th>\n",
       "      <td>-114.3</td>\n",
       "      <td>42.0</td>\n",
       "      <td>52.0</td>\n",
       "      <td>37937.0</td>\n",
       "      <td>6445.0</td>\n",
       "      <td>35682.0</td>\n",
       "      <td>6082.0</td>\n",
       "      <td>15.0</td>\n",
       "      <td>500.0</td>\n",
       "    </tr>\n",
       "  </tbody>\n",
       "</table>\n",
       "</div>"
      ],
      "text/plain": [
       "       longitude  latitude  housing_median_age  total_rooms  total_bedrooms  \\\n",
       "count    17000.0   17000.0             17000.0      17000.0         17000.0   \n",
       "mean      -119.6      35.6                28.6       2643.7           539.4   \n",
       "std          2.0       2.1                12.6       2179.9           421.5   \n",
       "min       -124.3      32.5                 1.0          2.0             1.0   \n",
       "25%       -121.8      33.9                18.0       1462.0           297.0   \n",
       "50%       -118.5      34.2                29.0       2127.0           434.0   \n",
       "75%       -118.0      37.7                37.0       3151.2           648.2   \n",
       "max       -114.3      42.0                52.0      37937.0          6445.0   \n",
       "\n",
       "       population  households  median_income  median_house_value  \n",
       "count     17000.0     17000.0        17000.0             17000.0  \n",
       "mean       1429.6       501.2            3.9               207.3  \n",
       "std        1147.9       384.5            1.9               116.0  \n",
       "min           3.0         1.0            0.5                15.0  \n",
       "25%         790.0       282.0            2.6               119.4  \n",
       "50%        1167.0       409.0            3.5               180.4  \n",
       "75%        1721.0       605.2            4.8               265.0  \n",
       "max       35682.0      6082.0           15.0               500.0  "
      ]
     },
     "execution_count": 4,
     "metadata": {},
     "output_type": "execute_result"
    }
   ],
   "source": [
    "# Get statistics on the dataset.\n",
    "training_df.describe()\n"
   ]
  },
  {
   "cell_type": "markdown",
   "metadata": {
    "colab_type": "text",
    "id": "f9pcW_Yjtoo8"
   },
   "source": [
    "### Task 1: Identify anomalies in the dataset\n",
    "\n",
    "Do you see any anomalies (strange values) in the data? "
   ]
  },
  {
   "cell_type": "code",
   "execution_count": 0,
   "metadata": {
    "cellView": "form",
    "colab": {},
    "colab_type": "code",
    "id": "UoS7NWRXEs1H"
   },
   "outputs": [],
   "source": [
    "#@title Double-click to view a possible answer.\n",
    "\n",
    "# The maximum value (max) of several columns seems very\n",
    "# high compared to the other quantiles. For example,\n",
    "# example the total_rooms column. Given the quantile\n",
    "# values (25%, 50%, and 75%), you might expect the \n",
    "# max value of total_rooms to be approximately \n",
    "# 5,000 or possibly 10,000. However, the max value \n",
    "# is actually 37,937.\n",
    "\n",
    "# When you see anomalies in a column, become more careful\n",
    "# about using that column as a feature. That said,\n",
    "# anomalies in potential features sometimes mirror \n",
    "# anomalies in the label, which could make the column \n",
    "# be (or seem to be) a powerful feature.\n",
    "# Also, as you will see later in the course, you \n",
    "# might be able to represent (pre-process) raw data \n",
    "# in order to make columns into useful features."
   ]
  },
  {
   "cell_type": "markdown",
   "metadata": {
    "colab_type": "text",
    "id": "3014ezH3C7jT"
   },
   "source": [
    "## Define functions that build and train a model\n",
    "\n",
    "The following code defines two functions:\n",
    "\n",
    "  * `build_model(my_learning_rate)`, which builds a randomly-initialized model.\n",
    "  * `train_model(model, feature, label, epochs)`, which trains the model from the examples (feature and label) you pass. \n",
    "\n",
    "Since you don't need to understand model building code right now, we've hidden this code cell.  You may optionally double-click the following headline to see the code that builds and trains a model."
   ]
  },
  {
   "cell_type": "code",
   "execution_count": 5,
   "metadata": {
    "cellView": "form",
    "colab": {},
    "colab_type": "code",
    "id": "pedD5GhlDC-y"
   },
   "outputs": [
    {
     "name": "stdout",
     "output_type": "stream",
     "text": [
      "Defined the create_model and traing_model functions.\n"
     ]
    }
   ],
   "source": [
    "#@title Define the functions that build and train a model\n",
    "def build_model(my_learning_rate):\n",
    "  \"\"\"Create and compile a simple linear regression model.\"\"\"\n",
    "  # Most simple tf.keras models are sequential.\n",
    "  model = tf.keras.models.Sequential()\n",
    "\n",
    "  # Describe the topography of the model.\n",
    "  # The topography of a simple linear regression model\n",
    "  # is a single node in a single layer.\n",
    "  model.add(tf.keras.layers.Dense(units=1, \n",
    "                                  input_shape=(1,)))\n",
    "\n",
    "  # Compile the model topography into code that TensorFlow can efficiently\n",
    "  # execute. Configure training to minimize the model's mean squared error. \n",
    "  model.compile(optimizer=tf.keras.optimizers.RMSprop(lr=my_learning_rate),\n",
    "                loss=\"mean_squared_error\",\n",
    "                metrics=[tf.keras.metrics.RootMeanSquaredError()])\n",
    "\n",
    "  return model        \n",
    "\n",
    "\n",
    "def train_model(model, df, feature, label, epochs, batch_size):\n",
    "  \"\"\"Train the model by feeding it data.\"\"\"\n",
    "\n",
    "  # Feed the model the feature and the label.\n",
    "  # The model will train for the specified number of epochs. \n",
    "  history = model.fit(x=df[feature],\n",
    "                      y=df[label],\n",
    "                      batch_size=None,\n",
    "                      epochs=epochs)\n",
    "\n",
    "  # Gather the trained model's weight and bias.\n",
    "  trained_weight = model.get_weights()[0]\n",
    "  trained_bias = model.get_weights()[1]\n",
    "\n",
    "  # The list of epochs is stored separately from the rest of history.\n",
    "  epochs = history.epoch\n",
    "  \n",
    "  # Isolate the error for each epoch.\n",
    "  hist = pd.DataFrame(history.history)\n",
    "\n",
    "  # To track the progression of training, we're going to take a snapshot\n",
    "  # of the model's root mean squared error at each epoch. \n",
    "  rmse = hist[\"root_mean_squared_error\"]\n",
    "\n",
    "  return trained_weight, trained_bias, epochs, rmse\n",
    "\n",
    "print(\"Defined the create_model and traing_model functions.\")"
   ]
  },
  {
   "cell_type": "markdown",
   "metadata": {
    "colab_type": "text",
    "id": "Ak_TMAzGOIFq"
   },
   "source": [
    "## Define plotting functions\n",
    "\n",
    "The following [matplotlib](https://developers.google.com/machine-learning/glossary/#matplotlib) functions create the following plots:\n",
    "\n",
    "*  a scatter plot of the feature vs. the label, and a line showing the output of the trained model\n",
    "*  a loss curve\n",
    "\n",
    "You may optionally double-click the headline to see the matplotlib code, but note that writing matplotlib code is not an important part of learning ML programming."
   ]
  },
  {
   "cell_type": "code",
   "execution_count": 6,
   "metadata": {
    "cellView": "form",
    "colab": {},
    "colab_type": "code",
    "id": "QF0BFRXTOeR3"
   },
   "outputs": [
    {
     "name": "stdout",
     "output_type": "stream",
     "text": [
      "Defined the plot_the_model and plot_the_loss_curve functions.\n"
     ]
    }
   ],
   "source": [
    "#@title Define the plotting functions\n",
    "def plot_the_model(trained_weight, trained_bias, feature, label):\n",
    "  \"\"\"Plot the trained model against 200 random training examples.\"\"\"\n",
    "\n",
    "  # Label the axes.\n",
    "  plt.xlabel(feature)\n",
    "  plt.ylabel(label)\n",
    "\n",
    "  # Create a scatter plot from 200 random points of the dataset.\n",
    "  random_examples = training_df.sample(n=200)\n",
    "  plt.scatter(random_examples[feature], random_examples[label])\n",
    "\n",
    "  # Create a red line representing the model. The red line starts\n",
    "  # at coordinates (x0, y0) and ends at coordinates (x1, y1).\n",
    "  x0 = 0\n",
    "  y0 = trained_bias\n",
    "  x1 = 10000\n",
    "  y1 = trained_bias + (trained_weight * x1)\n",
    "  plt.plot([x0, x1], [y0, y1], c='r')\n",
    "\n",
    "  # Render the scatter plot and the red line.\n",
    "  plt.show()\n",
    "\n",
    "\n",
    "def plot_the_loss_curve(epochs, rmse):\n",
    "  \"\"\"Plot a curve of loss vs. epoch.\"\"\"\n",
    "\n",
    "  plt.figure()\n",
    "  plt.xlabel(\"Epoch\")\n",
    "  plt.ylabel(\"Root Mean Squared Error\")\n",
    "\n",
    "  plt.plot(epochs, rmse, label=\"Loss\")\n",
    "  plt.legend()\n",
    "  plt.ylim([rmse.min()*0.97, rmse.max()])\n",
    "  plt.show()  \n",
    "\n",
    "print(\"Defined the plot_the_model and plot_the_loss_curve functions.\")"
   ]
  },
  {
   "cell_type": "markdown",
   "metadata": {
    "colab_type": "text",
    "id": "D-IXYVfvM4gD"
   },
   "source": [
    "## Call the model functions\n",
    "\n",
    "An important part of machine learning is determining which [features](https://developers.google.com/machine-learning/glossary/#feature) correlate with the [label](https://developers.google.com/machine-learning/glossary/#label). For example, real-life home-value prediction models typically rely on hundreds of features and synthetic features. However, this model relies on only one feature. For now, you'll arbitrarily use `total_rooms` as that feature. \n"
   ]
  },
  {
   "cell_type": "code",
   "execution_count": 7,
   "metadata": {
    "cellView": "both",
    "colab": {},
    "colab_type": "code",
    "id": "nj3v5EKQFY8s"
   },
   "outputs": [
    {
     "name": "stderr",
     "output_type": "stream",
     "text": [
      "2021-07-30 14:47:21.232244: I tensorflow/core/platform/cpu_feature_guard.cc:142] This TensorFlow binary is optimized with oneAPI Deep Neural Network Library (oneDNN) to use the following CPU instructions in performance-critical operations:  AVX2 FMA\n",
      "To enable them in other operations, rebuild TensorFlow with the appropriate compiler flags.\n",
      "/Users/F445103/mlcc-exercises/jupyter-env/lib/python3.8/site-packages/tensorflow/python/keras/optimizer_v2/optimizer_v2.py:374: UserWarning: The `lr` argument is deprecated, use `learning_rate` instead.\n",
      "  warnings.warn(\n",
      "2021-07-30 14:47:21.301260: I tensorflow/compiler/mlir/mlir_graph_optimization_pass.cc:176] None of the MLIR Optimization Passes are enabled (registered 2)\n"
     ]
    },
    {
     "name": "stdout",
     "output_type": "stream",
     "text": [
      "Epoch 1/30\n",
      "532/532 [==============================] - 1s 548us/step - loss: 1706567.7500 - root_mean_squared_error: 1306.3567\n",
      "Epoch 2/30\n",
      "532/532 [==============================] - 0s 496us/step - loss: 27924.1348 - root_mean_squared_error: 167.1052\n",
      "Epoch 3/30\n",
      "532/532 [==============================] - 0s 559us/step - loss: 27054.6973 - root_mean_squared_error: 164.4831\n",
      "Epoch 4/30\n",
      "532/532 [==============================] - 0s 493us/step - loss: 26542.7578 - root_mean_squared_error: 162.9195\n",
      "Epoch 5/30\n",
      "532/532 [==============================] - 0s 497us/step - loss: 25928.0762 - root_mean_squared_error: 161.0220\n",
      "Epoch 6/30\n",
      "532/532 [==============================] - 0s 506us/step - loss: 25195.5488 - root_mean_squared_error: 158.7311\n",
      "Epoch 7/30\n",
      "532/532 [==============================] - 0s 499us/step - loss: 24444.0039 - root_mean_squared_error: 156.3458\n",
      "Epoch 8/30\n",
      "532/532 [==============================] - 0s 488us/step - loss: 23900.8691 - root_mean_squared_error: 154.5991\n",
      "Epoch 9/30\n",
      "532/532 [==============================] - 0s 476us/step - loss: 23471.1602 - root_mean_squared_error: 153.2030\n",
      "Epoch 10/30\n",
      "532/532 [==============================] - 0s 471us/step - loss: 22665.1582 - root_mean_squared_error: 150.5495\n",
      "Epoch 11/30\n",
      "532/532 [==============================] - 0s 489us/step - loss: 22191.6484 - root_mean_squared_error: 148.9686\n",
      "Epoch 12/30\n",
      "532/532 [==============================] - 0s 492us/step - loss: 21910.0977 - root_mean_squared_error: 148.0206\n",
      "Epoch 13/30\n",
      "532/532 [==============================] - 0s 498us/step - loss: 21103.7246 - root_mean_squared_error: 145.2712\n",
      "Epoch 14/30\n",
      "532/532 [==============================] - 0s 485us/step - loss: 20749.4062 - root_mean_squared_error: 144.0465\n",
      "Epoch 15/30\n",
      "532/532 [==============================] - 0s 490us/step - loss: 20138.2188 - root_mean_squared_error: 141.9092\n",
      "Epoch 16/30\n",
      "532/532 [==============================] - 0s 481us/step - loss: 19786.9160 - root_mean_squared_error: 140.6660\n",
      "Epoch 17/30\n",
      "532/532 [==============================] - 0s 509us/step - loss: 19207.5527 - root_mean_squared_error: 138.5913\n",
      "Epoch 18/30\n",
      "532/532 [==============================] - 0s 480us/step - loss: 18990.3379 - root_mean_squared_error: 137.8054\n",
      "Epoch 19/30\n",
      "532/532 [==============================] - 0s 526us/step - loss: 18523.6836 - root_mean_squared_error: 136.1017\n",
      "Epoch 20/30\n",
      "532/532 [==============================] - 0s 481us/step - loss: 18187.3633 - root_mean_squared_error: 134.8605\n",
      "Epoch 21/30\n",
      "532/532 [==============================] - 0s 481us/step - loss: 17829.5078 - root_mean_squared_error: 133.5272\n",
      "Epoch 22/30\n",
      "532/532 [==============================] - 0s 487us/step - loss: 17462.8340 - root_mean_squared_error: 132.1470\n",
      "Epoch 23/30\n",
      "532/532 [==============================] - 0s 480us/step - loss: 17276.8184 - root_mean_squared_error: 131.4413\n",
      "Epoch 24/30\n",
      "532/532 [==============================] - 0s 477us/step - loss: 16962.5605 - root_mean_squared_error: 130.2404\n",
      "Epoch 25/30\n",
      "532/532 [==============================] - 0s 477us/step - loss: 16705.5684 - root_mean_squared_error: 129.2500\n",
      "Epoch 26/30\n",
      "532/532 [==============================] - 0s 524us/step - loss: 16439.4102 - root_mean_squared_error: 128.2163\n",
      "Epoch 27/30\n",
      "532/532 [==============================] - 0s 506us/step - loss: 16238.3242 - root_mean_squared_error: 127.4297\n",
      "Epoch 28/30\n",
      "532/532 [==============================] - 0s 498us/step - loss: 16049.7578 - root_mean_squared_error: 126.6876\n",
      "Epoch 29/30\n",
      "532/532 [==============================] - 0s 590us/step - loss: 15827.4111 - root_mean_squared_error: 125.8070\n",
      "Epoch 30/30\n",
      "532/532 [==============================] - 0s 492us/step - loss: 15505.5928 - root_mean_squared_error: 124.5215\n",
      "\n",
      "The learned weight for your model is 0.0179\n",
      "The learned bias for your model is 126.7123\n",
      "\n"
     ]
    },
    {
     "name": "stderr",
     "output_type": "stream",
     "text": [
      "/Users/F445103/mlcc-exercises/jupyter-env/lib/python3.8/site-packages/numpy/core/_asarray.py:136: VisibleDeprecationWarning: Creating an ndarray from ragged nested sequences (which is a list-or-tuple of lists-or-tuples-or ndarrays with different lengths or shapes) is deprecated. If you meant to do this, you must specify 'dtype=object' when creating the ndarray\n",
      "  return array(a, dtype, copy=False, order=order, subok=True)\n"
     ]
    },
    {
     "data": {
      "image/png": "[encoded data removed]",
      "text/plain": [
       "<Figure size 432x288 with 1 Axes>"
      ]
     },
     "metadata": {
      "needs_background": "light"
     },
     "output_type": "display_data"
    },
    {
     "data": {
      "image/png": "[encoded data removed]",
      "text/plain": [
       "<Figure size 432x288 with 1 Axes>"
      ]
     },
     "metadata": {
      "needs_background": "light"
     },
     "output_type": "display_data"
    }
   ],
   "source": [
    "# The following variables are the hyperparameters.\n",
    "learning_rate = 0.01\n",
    "epochs = 30\n",
    "batch_size = 30\n",
    "\n",
    "# Specify the feature and the label.\n",
    "my_feature = \"total_rooms\"  # the total number of rooms on a specific city block.\n",
    "my_label=\"median_house_value\" # the median value of a house on a specific city block.\n",
    "# That is, you're going to create a model that predicts house value based \n",
    "# solely on total_rooms.  \n",
    "\n",
    "# Discard any pre-existing version of the model.\n",
    "my_model = None\n",
    "\n",
    "# Invoke the functions.\n",
    "my_model = build_model(learning_rate)\n",
    "weight, bias, epochs, rmse = train_model(my_model, training_df, \n",
    "                                         my_feature, my_label,\n",
    "                                         epochs, batch_size)\n",
    "\n",
    "print(\"\\nThe learned weight for your model is %.4f\" % weight)\n",
    "print(\"The learned bias for your model is %.4f\\n\" % bias )\n",
    "\n",
    "plot_the_model(weight, bias, my_feature, my_label)\n",
    "plot_the_loss_curve(epochs, rmse)"
   ]
  },
  {
   "cell_type": "markdown",
   "metadata": {
    "colab_type": "text",
    "id": "Btp8zUNbYOcd"
   },
   "source": [
    "A certain amount of randomness plays into training a model. Consequently, you'll get different results each time you train the model. That said, given the dataset and the hyperparameters, the trained model will generally do a poor job describing the feature's relation to the label."
   ]
  },
  {
   "cell_type": "markdown",
   "metadata": {
    "colab_type": "text",
    "id": "1xNqWWos_zyk"
   },
   "source": [
    "## Use the model to make predictions\n",
    "\n",
    "You can use the trained model to make predictions. In practice, [you should make predictions on examples that are not used in training](https://developers.google.com/machine-learning/crash-course/training-and-test-sets/splitting-data). However, for this exercise, you'll just work with a subset of the same training dataset. A later Colab exercise will explore ways to make predictions on examples not used in training.\n",
    "\n",
    "First, run the following code to define the house prediction function:"
   ]
  },
  {
   "cell_type": "code",
   "execution_count": 8,
   "metadata": {
    "colab": {},
    "colab_type": "code",
    "id": "nH63BmncAcab"
   },
   "outputs": [],
   "source": [
    "def predict_house_values(n, feature, label):\n",
    "  \"\"\"Predict house values based on a feature.\"\"\"\n",
    "\n",
    "  batch = training_df[feature][10000:10000 + n]\n",
    "  predicted_values = my_model.predict_on_batch(x=batch)\n",
    "\n",
    "  print(\"feature   label          predicted\")\n",
    "  print(\"  value   value          value\")\n",
    "  print(\"          in thousand$   in thousand$\")\n",
    "  print(\"--------------------------------------\")\n",
    "  for i in range(n):\n",
    "    print (\"%5.0f %6.0f %15.0f\" % (training_df[feature][i],\n",
    "                                   training_df[label][i],\n",
    "                                   predicted_values[i][0] ))"
   ]
  },
  {
   "cell_type": "markdown",
   "metadata": {
    "colab_type": "text",
    "id": "NbBNQujU5WjK"
   },
   "source": [
    "Now, invoke the house prediction function on 10 examples:"
   ]
  },
  {
   "cell_type": "code",
   "execution_count": 9,
   "metadata": {
    "colab": {},
    "colab_type": "code",
    "id": "Y_0DGBt0Kz_N"
   },
   "outputs": [
    {
     "name": "stdout",
     "output_type": "stream",
     "text": [
      "feature   label          predicted\n",
      "  value   value          value\n",
      "          in thousand$   in thousand$\n",
      "--------------------------------------\n",
      " 5612     67             162\n",
      " 7650     80             187\n",
      "  720     86             192\n",
      " 1501     73             166\n",
      " 1454     66             170\n",
      " 1387     74             228\n",
      " 2907     82             186\n",
      "  812     48             172\n",
      " 4789     58             151\n",
      " 1497     48             189\n"
     ]
    }
   ],
   "source": [
    "predict_house_values(10, my_feature, my_label)"
   ]
  },
  {
   "cell_type": "markdown",
   "metadata": {
    "colab_type": "text",
    "id": "-gGaqArcpqY3"
   },
   "source": [
    "### Task 2: Judge the predictive power of the model\n",
    "\n",
    "Look at the preceding table. How close is the predicted value to the label value?  In other words, does your model accurately predict house values?  "
   ]
  },
  {
   "cell_type": "code",
   "execution_count": 0,
   "metadata": {
    "cellView": "form",
    "colab": {},
    "colab_type": "code",
    "id": "yVpjhUFm9uID"
   },
   "outputs": [],
   "source": [
    "#@title Double-click to view the answer.\n",
    "\n",
    "# Most of the predicted values differ significantly\n",
    "# from the label value, so the trained model probably \n",
    "# doesn't have much predictive power. However, the\n",
    "# first 10 examples might not be representative of \n",
    "# the rest of the examples.  "
   ]
  },
  {
   "cell_type": "markdown",
   "metadata": {
    "colab_type": "text",
    "id": "wLoqis3IUPSd"
   },
   "source": [
    "## Task 3: Try a different feature\n",
    "\n",
    "The `total_rooms` feature had only a little predictive power. Would a different feature have greater predictive power?  Try using `population` as the feature instead of `total_rooms`. \n",
    "\n",
    "Note: When you change features, you might also need to change the hyperparameters."
   ]
  },
  {
   "cell_type": "code",
   "execution_count": 14,
   "metadata": {
    "colab": {},
    "colab_type": "code",
    "id": "H0ab6HD4ZO75"
   },
   "outputs": [
    {
     "name": "stdout",
     "output_type": "stream",
     "text": [
      "Epoch 1/100\n",
      "147/532 [=======>......................] - ETA: 0s - loss: 7309.2090 - root_mean_squared_error: 85.4939"
     ]
    },
    {
     "name": "stderr",
     "output_type": "stream",
     "text": [
      "/Users/F445103/mlcc-exercises/jupyter-env/lib/python3.8/site-packages/tensorflow/python/keras/optimizer_v2/optimizer_v2.py:374: UserWarning: The `lr` argument is deprecated, use `learning_rate` instead.\n",
      "  warnings.warn(\n"
     ]
    },
    {
     "name": "stdout",
     "output_type": "stream",
     "text": [
      "532/532 [==============================] - 0s 591us/step - loss: 7358.4302 - root_mean_squared_error: 85.7813\n",
      "Epoch 2/100\n",
      "532/532 [==============================] - 0s 523us/step - loss: 7326.0132 - root_mean_squared_error: 85.5921\n",
      "Epoch 3/100\n",
      "532/532 [==============================] - 0s 507us/step - loss: 7296.1748 - root_mean_squared_error: 85.4176\n",
      "Epoch 4/100\n",
      "532/532 [==============================] - 0s 522us/step - loss: 7268.6445 - root_mean_squared_error: 85.2563\n",
      "Epoch 5/100\n",
      "532/532 [==============================] - 0s 501us/step - loss: 7244.0786 - root_mean_squared_error: 85.1122\n",
      "Epoch 6/100\n",
      "532/532 [==============================] - 0s 487us/step - loss: 7221.7905 - root_mean_squared_error: 84.9811\n",
      "Epoch 7/100\n",
      "532/532 [==============================] - 0s 515us/step - loss: 7200.9243 - root_mean_squared_error: 84.8583\n",
      "Epoch 8/100\n",
      "532/532 [==============================] - 0s 502us/step - loss: 7182.9722 - root_mean_squared_error: 84.7524\n",
      "Epoch 9/100\n",
      "532/532 [==============================] - 0s 537us/step - loss: 7166.0669 - root_mean_squared_error: 84.6526\n",
      "Epoch 10/100\n",
      "532/532 [==============================] - 0s 543us/step - loss: 7150.1284 - root_mean_squared_error: 84.5584\n",
      "Epoch 11/100\n",
      "532/532 [==============================] - 0s 510us/step - loss: 7136.5195 - root_mean_squared_error: 84.4779\n",
      "Epoch 12/100\n",
      "532/532 [==============================] - 0s 528us/step - loss: 7124.0898 - root_mean_squared_error: 84.4043\n",
      "Epoch 13/100\n",
      "532/532 [==============================] - 0s 539us/step - loss: 7112.8423 - root_mean_squared_error: 84.3377\n",
      "Epoch 14/100\n",
      "532/532 [==============================] - 0s 525us/step - loss: 7102.3184 - root_mean_squared_error: 84.2753\n",
      "Epoch 15/100\n",
      "532/532 [==============================] - 0s 519us/step - loss: 7093.0879 - root_mean_squared_error: 84.2205\n",
      "Epoch 16/100\n",
      "532/532 [==============================] - 0s 502us/step - loss: 7084.5742 - root_mean_squared_error: 84.1699\n",
      "Epoch 17/100\n",
      "532/532 [==============================] - 0s 532us/step - loss: 7077.1631 - root_mean_squared_error: 84.1259\n",
      "Epoch 18/100\n",
      "532/532 [==============================] - 0s 497us/step - loss: 7070.5767 - root_mean_squared_error: 84.0867\n",
      "Epoch 19/100\n",
      "532/532 [==============================] - 0s 502us/step - loss: 7064.2334 - root_mean_squared_error: 84.0490\n",
      "Epoch 20/100\n",
      "532/532 [==============================] - 0s 581us/step - loss: 7059.4370 - root_mean_squared_error: 84.0205\n",
      "Epoch 21/100\n",
      "532/532 [==============================] - 0s 541us/step - loss: 7054.2676 - root_mean_squared_error: 83.9897\n",
      "Epoch 22/100\n",
      "532/532 [==============================] - 0s 555us/step - loss: 7049.7642 - root_mean_squared_error: 83.9629\n",
      "Epoch 23/100\n",
      "532/532 [==============================] - 0s 516us/step - loss: 7045.5469 - root_mean_squared_error: 83.9378\n",
      "Epoch 24/100\n",
      "532/532 [==============================] - 0s 566us/step - loss: 7041.7129 - root_mean_squared_error: 83.9149\n",
      "Epoch 25/100\n",
      "532/532 [==============================] - 0s 581us/step - loss: 7038.9219 - root_mean_squared_error: 83.8983\n",
      "Epoch 26/100\n",
      "532/532 [==============================] - 0s 550us/step - loss: 7036.0889 - root_mean_squared_error: 83.8814\n",
      "Epoch 27/100\n",
      "532/532 [==============================] - 0s 524us/step - loss: 7033.4609 - root_mean_squared_error: 83.8657\n",
      "Epoch 28/100\n",
      "532/532 [==============================] - 0s 551us/step - loss: 7031.3164 - root_mean_squared_error: 83.8529\n",
      "Epoch 29/100\n",
      "532/532 [==============================] - 0s 505us/step - loss: 7029.3945 - root_mean_squared_error: 83.8415\n",
      "Epoch 30/100\n",
      "532/532 [==============================] - 0s 530us/step - loss: 7027.5195 - root_mean_squared_error: 83.8303\n",
      "Epoch 31/100\n",
      "532/532 [==============================] - 0s 560us/step - loss: 7025.8506 - root_mean_squared_error: 83.8204\n",
      "Epoch 32/100\n",
      "532/532 [==============================] - 0s 542us/step - loss: 7024.2656 - root_mean_squared_error: 83.8109\n",
      "Epoch 33/100\n",
      "532/532 [==============================] - 0s 495us/step - loss: 7023.2183 - root_mean_squared_error: 83.8046\n",
      "Epoch 34/100\n",
      "532/532 [==============================] - 0s 548us/step - loss: 7021.8872 - root_mean_squared_error: 83.7967\n",
      "Epoch 35/100\n",
      "532/532 [==============================] - 0s 563us/step - loss: 7020.2256 - root_mean_squared_error: 83.7868\n",
      "Epoch 36/100\n",
      "532/532 [==============================] - 0s 528us/step - loss: 7020.1484 - root_mean_squared_error: 83.7863\n",
      "Epoch 37/100\n",
      "532/532 [==============================] - 0s 499us/step - loss: 7019.0786 - root_mean_squared_error: 83.7799\n",
      "Epoch 38/100\n",
      "532/532 [==============================] - 0s 539us/step - loss: 7018.2319 - root_mean_squared_error: 83.7749\n",
      "Epoch 39/100\n",
      "532/532 [==============================] - 0s 576us/step - loss: 7017.5366 - root_mean_squared_error: 83.7707\n",
      "Epoch 40/100\n",
      "532/532 [==============================] - 0s 547us/step - loss: 7016.9014 - root_mean_squared_error: 83.7669\n",
      "Epoch 41/100\n",
      "532/532 [==============================] - 0s 497us/step - loss: 7015.9814 - root_mean_squared_error: 83.7615\n",
      "Epoch 42/100\n",
      "532/532 [==============================] - 0s 527us/step - loss: 7016.3906 - root_mean_squared_error: 83.7639\n",
      "Epoch 43/100\n",
      "532/532 [==============================] - 0s 593us/step - loss: 7015.7485 - root_mean_squared_error: 83.7601\n",
      "Epoch 44/100\n",
      "532/532 [==============================] - 0s 566us/step - loss: 7015.4443 - root_mean_squared_error: 83.7582\n",
      "Epoch 45/100\n",
      "532/532 [==============================] - 0s 526us/step - loss: 7015.2402 - root_mean_squared_error: 83.7570\n",
      "Epoch 46/100\n",
      "532/532 [==============================] - 0s 501us/step - loss: 7015.0913 - root_mean_squared_error: 83.7561\n",
      "Epoch 47/100\n",
      "532/532 [==============================] - 0s 507us/step - loss: 7014.6270 - root_mean_squared_error: 83.7534\n",
      "Epoch 48/100\n",
      "532/532 [==============================] - 0s 541us/step - loss: 7014.5396 - root_mean_squared_error: 83.7528\n",
      "Epoch 49/100\n",
      "532/532 [==============================] - 0s 585us/step - loss: 7014.1245 - root_mean_squared_error: 83.7504\n",
      "Epoch 50/100\n",
      "532/532 [==============================] - 0s 576us/step - loss: 7014.2412 - root_mean_squared_error: 83.7511\n",
      "Epoch 51/100\n",
      "532/532 [==============================] - 0s 502us/step - loss: 7013.8979 - root_mean_squared_error: 83.7490\n",
      "Epoch 52/100\n",
      "532/532 [==============================] - 0s 493us/step - loss: 7013.1958 - root_mean_squared_error: 83.7448\n",
      "Epoch 53/100\n",
      "532/532 [==============================] - 0s 527us/step - loss: 7013.9653 - root_mean_squared_error: 83.7494\n",
      "Epoch 54/100\n",
      "532/532 [==============================] - 0s 560us/step - loss: 7013.3936 - root_mean_squared_error: 83.7460\n",
      "Epoch 55/100\n",
      "532/532 [==============================] - 0s 580us/step - loss: 7013.5884 - root_mean_squared_error: 83.7472\n",
      "Epoch 56/100\n",
      "532/532 [==============================] - 0s 538us/step - loss: 7013.0278 - root_mean_squared_error: 83.7438\n",
      "Epoch 57/100\n",
      "532/532 [==============================] - 0s 501us/step - loss: 7013.3428 - root_mean_squared_error: 83.7457\n",
      "Epoch 58/100\n",
      "532/532 [==============================] - 0s 513us/step - loss: 7013.3623 - root_mean_squared_error: 83.7458\n",
      "Epoch 59/100\n",
      "532/532 [==============================] - 0s 552us/step - loss: 7013.4717 - root_mean_squared_error: 83.7465\n",
      "Epoch 60/100\n",
      "532/532 [==============================] - 0s 517us/step - loss: 7013.3652 - root_mean_squared_error: 83.7458\n",
      "Epoch 61/100\n",
      "532/532 [==============================] - 0s 496us/step - loss: 7013.1982 - root_mean_squared_error: 83.7448\n",
      "Epoch 62/100\n",
      "532/532 [==============================] - 0s 504us/step - loss: 7013.2344 - root_mean_squared_error: 83.7451\n",
      "Epoch 63/100\n",
      "532/532 [==============================] - 0s 508us/step - loss: 7013.4038 - root_mean_squared_error: 83.7461\n",
      "Epoch 64/100\n",
      "532/532 [==============================] - 0s 536us/step - loss: 7013.2734 - root_mean_squared_error: 83.7453\n",
      "Epoch 65/100\n",
      "532/532 [==============================] - 0s 519us/step - loss: 7013.2969 - root_mean_squared_error: 83.7454\n",
      "Epoch 66/100\n",
      "532/532 [==============================] - 0s 509us/step - loss: 7012.9971 - root_mean_squared_error: 83.7436\n",
      "Epoch 67/100\n"
     ]
    },
    {
     "name": "stdout",
     "output_type": "stream",
     "text": [
      "532/532 [==============================] - 0s 536us/step - loss: 7013.1904 - root_mean_squared_error: 83.7448\n",
      "Epoch 68/100\n",
      "532/532 [==============================] - 0s 513us/step - loss: 7013.0508 - root_mean_squared_error: 83.7440\n",
      "Epoch 69/100\n",
      "532/532 [==============================] - 0s 507us/step - loss: 7013.1577 - root_mean_squared_error: 83.7446\n",
      "Epoch 70/100\n",
      "532/532 [==============================] - 0s 498us/step - loss: 7013.1357 - root_mean_squared_error: 83.7445\n",
      "Epoch 71/100\n",
      "532/532 [==============================] - 0s 506us/step - loss: 7012.9307 - root_mean_squared_error: 83.7432\n",
      "Epoch 72/100\n",
      "532/532 [==============================] - 0s 494us/step - loss: 7013.0898 - root_mean_squared_error: 83.7442\n",
      "Epoch 73/100\n",
      "532/532 [==============================] - 0s 504us/step - loss: 7013.2056 - root_mean_squared_error: 83.7449\n",
      "Epoch 74/100\n",
      "532/532 [==============================] - 0s 497us/step - loss: 7013.1187 - root_mean_squared_error: 83.7444\n",
      "Epoch 75/100\n",
      "532/532 [==============================] - 0s 495us/step - loss: 7013.0020 - root_mean_squared_error: 83.7437\n",
      "Epoch 76/100\n",
      "532/532 [==============================] - 0s 521us/step - loss: 7013.1860 - root_mean_squared_error: 83.7448\n",
      "Epoch 77/100\n",
      "532/532 [==============================] - 0s 503us/step - loss: 7013.1924 - root_mean_squared_error: 83.7448\n",
      "Epoch 78/100\n",
      "532/532 [==============================] - 0s 503us/step - loss: 7013.0796 - root_mean_squared_error: 83.7441\n",
      "Epoch 79/100\n",
      "532/532 [==============================] - 0s 507us/step - loss: 7013.1206 - root_mean_squared_error: 83.7444\n",
      "Epoch 80/100\n",
      "532/532 [==============================] - 0s 500us/step - loss: 7013.2793 - root_mean_squared_error: 83.7453\n",
      "Epoch 81/100\n",
      "532/532 [==============================] - 0s 499us/step - loss: 7013.1387 - root_mean_squared_error: 83.7445\n",
      "Epoch 82/100\n",
      "532/532 [==============================] - 0s 512us/step - loss: 7012.9941 - root_mean_squared_error: 83.7436\n",
      "Epoch 83/100\n",
      "532/532 [==============================] - 0s 505us/step - loss: 7013.1733 - root_mean_squared_error: 83.7447\n",
      "Epoch 84/100\n",
      "532/532 [==============================] - 0s 511us/step - loss: 7013.0200 - root_mean_squared_error: 83.7438\n",
      "Epoch 85/100\n",
      "532/532 [==============================] - 0s 500us/step - loss: 7013.2158 - root_mean_squared_error: 83.7449\n",
      "Epoch 86/100\n",
      "532/532 [==============================] - 0s 495us/step - loss: 7013.2251 - root_mean_squared_error: 83.7450\n",
      "Epoch 87/100\n",
      "532/532 [==============================] - 0s 497us/step - loss: 7013.0898 - root_mean_squared_error: 83.7442\n",
      "Epoch 88/100\n",
      "532/532 [==============================] - 0s 512us/step - loss: 7013.1309 - root_mean_squared_error: 83.7444\n",
      "Epoch 89/100\n",
      "532/532 [==============================] - 0s 498us/step - loss: 7013.0898 - root_mean_squared_error: 83.7442\n",
      "Epoch 90/100\n",
      "532/532 [==============================] - 0s 493us/step - loss: 7012.9399 - root_mean_squared_error: 83.7433\n",
      "Epoch 91/100\n",
      "532/532 [==============================] - 0s 507us/step - loss: 7013.2554 - root_mean_squared_error: 83.7452\n",
      "Epoch 92/100\n",
      "532/532 [==============================] - 0s 521us/step - loss: 7013.1069 - root_mean_squared_error: 83.7443\n",
      "Epoch 93/100\n",
      "532/532 [==============================] - 0s 508us/step - loss: 7013.3301 - root_mean_squared_error: 83.7456\n",
      "Epoch 94/100\n",
      "532/532 [==============================] - 0s 505us/step - loss: 7013.2534 - root_mean_squared_error: 83.7452\n",
      "Epoch 95/100\n",
      "532/532 [==============================] - 0s 507us/step - loss: 7013.2764 - root_mean_squared_error: 83.7453\n",
      "Epoch 96/100\n",
      "532/532 [==============================] - 0s 510us/step - loss: 7013.2007 - root_mean_squared_error: 83.7449\n",
      "Epoch 97/100\n",
      "532/532 [==============================] - 0s 494us/step - loss: 7013.3770 - root_mean_squared_error: 83.7459\n",
      "Epoch 98/100\n",
      "532/532 [==============================] - 0s 520us/step - loss: 7013.1484 - root_mean_squared_error: 83.7445\n",
      "Epoch 99/100\n",
      "532/532 [==============================] - 0s 520us/step - loss: 7013.3218 - root_mean_squared_error: 83.7456\n",
      "Epoch 100/100\n",
      "532/532 [==============================] - 0s 500us/step - loss: 7013.1309 - root_mean_squared_error: 83.7444\n"
     ]
    },
    {
     "name": "stderr",
     "output_type": "stream",
     "text": [
      "/Users/F445103/mlcc-exercises/jupyter-env/lib/python3.8/site-packages/numpy/core/_asarray.py:136: VisibleDeprecationWarning: Creating an ndarray from ragged nested sequences (which is a list-or-tuple of lists-or-tuples-or ndarrays with different lengths or shapes) is deprecated. If you meant to do this, you must specify 'dtype=object' when creating the ndarray\n",
      "  return array(a, dtype, copy=False, order=order, subok=True)\n"
     ]
    },
    {
     "data": {
      "image/png": "[encoded data removed]",
      "text/plain": [
       "<Figure size 432x288 with 1 Axes>"
      ]
     },
     "metadata": {
      "needs_background": "light"
     },
     "output_type": "display_data"
    },
    {
     "data": {
      "image/png": "[encoded data removed]",
      "text/plain": [
       "<Figure size 432x288 with 1 Axes>"
      ]
     },
     "metadata": {
      "needs_background": "light"
     },
     "output_type": "display_data"
    },
    {
     "name": "stdout",
     "output_type": "stream",
     "text": [
      "feature   label          predicted\n",
      "  value   value          value\n",
      "          in thousand$   in thousand$\n",
      "--------------------------------------\n",
      "    1     67             134\n",
      "    2     80             212\n",
      "    2     86             154\n",
      "    3     73             132\n",
      "    2     66             154\n",
      "    3     74             148\n",
      "    3     82             457\n",
      "    2     48             260\n",
      "    2     58             147\n",
      "    2     48             221\n",
      "    3     86             397\n",
      "    2     62             163\n",
      "    2     49             179\n",
      "    3     70             222\n",
      "    1     45             143\n"
     ]
    }
   ],
   "source": [
    "my_feature = \"median_income\"   # Replace the ? with population or possibly\n",
    "                   # a different column name.\n",
    "\n",
    "# Experiment with the hyperparameters.\n",
    "learning_rate = 2\n",
    "epochs = 100\n",
    "batch_size = 150\n",
    "\n",
    "# Don't change anything below this line.\n",
    "model = build_model(learning_rate)\n",
    "weight, bias, epochs, rmse = train_model(my_model, training_df, \n",
    "                                         my_feature, my_label,\n",
    "                                         epochs, batch_size)\n",
    "plot_the_model(weight, bias, my_feature, my_label)\n",
    "plot_the_loss_curve(epochs, rmse)\n",
    "\n",
    "predict_house_values(15, my_feature, my_label)"
   ]
  },
  {
   "cell_type": "code",
   "execution_count": 15,
   "metadata": {
    "cellView": "form",
    "colab": {},
    "colab_type": "code",
    "id": "107mDkW7U6mg"
   },
   "outputs": [
    {
     "name": "stderr",
     "output_type": "stream",
     "text": [
      "/Users/F445103/mlcc-exercises/jupyter-env/lib/python3.8/site-packages/tensorflow/python/keras/optimizer_v2/optimizer_v2.py:374: UserWarning: The `lr` argument is deprecated, use `learning_rate` instead.\n",
      "  warnings.warn(\n"
     ]
    },
    {
     "name": "stdout",
     "output_type": "stream",
     "text": [
      "Epoch 1/18\n",
      "532/532 [==============================] - 1s 525us/step - loss: 158647.7344 - root_mean_squared_error: 398.3061\n",
      "Epoch 2/18\n",
      "532/532 [==============================] - 0s 508us/step - loss: 29655.6543 - root_mean_squared_error: 172.2082\n",
      "Epoch 3/18\n",
      "532/532 [==============================] - 0s 532us/step - loss: 27474.3340 - root_mean_squared_error: 165.7538\n",
      "Epoch 4/18\n",
      "532/532 [==============================] - 0s 528us/step - loss: 24244.9668 - root_mean_squared_error: 155.7079\n",
      "Epoch 5/18\n",
      "532/532 [==============================] - 0s 508us/step - loss: 22485.2422 - root_mean_squared_error: 149.9508\n",
      "Epoch 6/18\n",
      "532/532 [==============================] - 0s 554us/step - loss: 20806.6973 - root_mean_squared_error: 144.2453\n",
      "Epoch 7/18\n",
      "532/532 [==============================] - 0s 498us/step - loss: 19236.3926 - root_mean_squared_error: 138.6953\n",
      "Epoch 8/18\n",
      "532/532 [==============================] - 0s 503us/step - loss: 18281.0820 - root_mean_squared_error: 135.2076\n",
      "Epoch 9/18\n",
      "532/532 [==============================] - 0s 508us/step - loss: 17574.5742 - root_mean_squared_error: 132.5691\n",
      "Epoch 10/18\n",
      "532/532 [==============================] - 0s 543us/step - loss: 16952.8145 - root_mean_squared_error: 130.2030\n",
      "Epoch 11/18\n",
      "532/532 [==============================] - 0s 516us/step - loss: 16541.7930 - root_mean_squared_error: 128.6149\n",
      "Epoch 12/18\n",
      "532/532 [==============================] - 0s 518us/step - loss: 16184.7676 - root_mean_squared_error: 127.2194\n",
      "Epoch 13/18\n",
      "532/532 [==============================] - 0s 559us/step - loss: 16118.5811 - root_mean_squared_error: 126.9590\n",
      "Epoch 14/18\n",
      "532/532 [==============================] - 0s 491us/step - loss: 16164.2354 - root_mean_squared_error: 127.1386\n",
      "Epoch 15/18\n",
      "532/532 [==============================] - 0s 494us/step - loss: 16060.4971 - root_mean_squared_error: 126.7300\n",
      "Epoch 16/18\n",
      "532/532 [==============================] - 0s 536us/step - loss: 16222.2139 - root_mean_squared_error: 127.3665\n",
      "Epoch 17/18\n",
      "532/532 [==============================] - 0s 520us/step - loss: 15965.4717 - root_mean_squared_error: 126.3545\n",
      "Epoch 18/18\n",
      "532/532 [==============================] - 0s 516us/step - loss: 15844.8076 - root_mean_squared_error: 125.8762\n"
     ]
    },
    {
     "name": "stderr",
     "output_type": "stream",
     "text": [
      "/Users/F445103/mlcc-exercises/jupyter-env/lib/python3.8/site-packages/numpy/core/_asarray.py:136: VisibleDeprecationWarning: Creating an ndarray from ragged nested sequences (which is a list-or-tuple of lists-or-tuples-or ndarrays with different lengths or shapes) is deprecated. If you meant to do this, you must specify 'dtype=object' when creating the ndarray\n",
      "  return array(a, dtype, copy=False, order=order, subok=True)\n"
     ]
    },
    {
     "data": {
      "image/png": "[encoded data removed]",
      "text/plain": [
       "<Figure size 432x288 with 1 Axes>"
      ]
     },
     "metadata": {
      "needs_background": "light"
     },
     "output_type": "display_data"
    },
    {
     "data": {
      "image/png": "[encoded data removed]",
      "text/plain": [
       "<Figure size 432x288 with 1 Axes>"
      ]
     },
     "metadata": {
      "needs_background": "light"
     },
     "output_type": "display_data"
    },
    {
     "name": "stdout",
     "output_type": "stream",
     "text": [
      "feature   label          predicted\n",
      "  value   value          value\n",
      "          in thousand$   in thousand$\n",
      "--------------------------------------\n",
      " 1015     67              75\n",
      " 1129     80              16\n",
      "  333     86             -17\n",
      "  515     73              98\n",
      "  624     66              38\n",
      "  671     74             -29\n",
      " 1841     82              43\n",
      "  375     48              97\n",
      " 3134     58             170\n",
      "  787     48              43\n"
     ]
    }
   ],
   "source": [
    "#@title Double-click to view a possible solution.\n",
    "\n",
    "my_feature = \"population\" # Pick a feature other than \"total_rooms\"\n",
    "\n",
    "# Possibly, experiment with the hyperparameters.\n",
    "learning_rate = 0.05\n",
    "epochs = 18\n",
    "batch_size = 3\n",
    "\n",
    "# Don't change anything below.\n",
    "my_model = build_model(learning_rate)\n",
    "weight, bias, epochs, rmse = train_model(my_model, training_df, \n",
    "                                         my_feature, my_label,\n",
    "                                         epochs, batch_size)\n",
    "\n",
    "plot_the_model(weight, bias, my_feature, my_label)\n",
    "plot_the_loss_curve(epochs, rmse)\n",
    "\n",
    "predict_house_values(10, my_feature, my_label)"
   ]
  },
  {
   "cell_type": "markdown",
   "metadata": {
    "colab_type": "text",
    "id": "Nd_rHJ59AUtk"
   },
   "source": [
    "Did `population` produce better predictions than `total_rooms`?"
   ]
  },
  {
   "cell_type": "code",
   "execution_count": 0,
   "metadata": {
    "cellView": "form",
    "colab": {},
    "colab_type": "code",
    "id": "F0tPEtzcC-vK"
   },
   "outputs": [],
   "source": [
    "#@title Double-click to view the answer.\n",
    "\n",
    "# Training is not entirely deterministic, but population \n",
    "# typically converges at a slightly higher RMSE than \n",
    "# total_rooms.  So, population appears to be about \n",
    "# the same or slightly worse at making predictions \n",
    "# than total_rooms."
   ]
  },
  {
   "cell_type": "markdown",
   "metadata": {
    "colab_type": "text",
    "id": "C8uYpyGacsIg"
   },
   "source": [
    "## Task 4: Define a synthetic feature\n",
    "\n",
    "You have determined that `total_rooms` and `population` were not useful features.  That is, neither the total number of rooms in a neighborhood nor the neighborhood's population successfully predicted the median house price of that neighborhood. Perhaps though, the *ratio* of `total_rooms` to `population` might have some predictive power. That is, perhaps block density relates to median house value.\n",
    "\n",
    "To explore this hypothesis, do the following: \n",
    "\n",
    "1. Create a [synthetic feature](https://developers.google.com/machine-learning/glossary/#synthetic_feature) that's a ratio of `total_rooms` to `population`. (If you are new to pandas DataFrames, please study the [Pandas DataFrame Ultraquick Tutorial](https://colab.research.google.com/github/google/eng-edu/blob/master/ml/cc/exercises/pandas_dataframe_ultraquick_tutorial.ipynb?utm_source=linearregressionreal-colab&utm_medium=colab&utm_campaign=colab-external&utm_content=pandas_tf2-colab&hl=en).)\n",
    "2. Tune the three hyperparameters.\n",
    "3. Determine whether this synthetic feature produces \n",
    "   a lower loss value than any of the single features you \n",
    "   tried earlier in this exercise."
   ]
  },
  {
   "cell_type": "code",
   "execution_count": 17,
   "metadata": {
    "colab": {},
    "colab_type": "code",
    "id": "4Kx2xHSgdcpg"
   },
   "outputs": [
    {
     "name": "stderr",
     "output_type": "stream",
     "text": [
      "/Users/F445103/mlcc-exercises/jupyter-env/lib/python3.8/site-packages/tensorflow/python/keras/optimizer_v2/optimizer_v2.py:374: UserWarning: The `lr` argument is deprecated, use `learning_rate` instead.\n",
      "  warnings.warn(\n"
     ]
    },
    {
     "name": "stdout",
     "output_type": "stream",
     "text": [
      "Epoch 1/50\n",
      "532/532 [==============================] - 1s 517us/step - loss: 18176.9688 - root_mean_squared_error: 134.8220\n",
      "Epoch 2/50\n",
      "532/532 [==============================] - 0s 550us/step - loss: 13902.4434 - root_mean_squared_error: 117.9086\n",
      "Epoch 3/50\n",
      "532/532 [==============================] - 0s 498us/step - loss: 13419.2891 - root_mean_squared_error: 115.8417\n",
      "Epoch 4/50\n",
      "532/532 [==============================] - 0s 508us/step - loss: 13253.0684 - root_mean_squared_error: 115.1220\n",
      "Epoch 5/50\n",
      "532/532 [==============================] - 0s 480us/step - loss: 13236.7266 - root_mean_squared_error: 115.0510\n",
      "Epoch 6/50\n",
      "532/532 [==============================] - 0s 493us/step - loss: 13154.1797 - root_mean_squared_error: 114.6917\n",
      "Epoch 7/50\n",
      "532/532 [==============================] - 0s 496us/step - loss: 13159.3965 - root_mean_squared_error: 114.7144\n",
      "Epoch 8/50\n",
      "532/532 [==============================] - 0s 495us/step - loss: 13171.1523 - root_mean_squared_error: 114.7656\n",
      "Epoch 9/50\n",
      "532/532 [==============================] - 0s 490us/step - loss: 13090.6631 - root_mean_squared_error: 114.4144\n",
      "Epoch 10/50\n",
      "532/532 [==============================] - 0s 495us/step - loss: 13203.8018 - root_mean_squared_error: 114.9078\n",
      "Epoch 11/50\n",
      "532/532 [==============================] - 0s 500us/step - loss: 13143.2773 - root_mean_squared_error: 114.6441\n",
      "Epoch 12/50\n",
      "532/532 [==============================] - 0s 499us/step - loss: 13187.6846 - root_mean_squared_error: 114.8376\n",
      "Epoch 13/50\n",
      "532/532 [==============================] - 0s 526us/step - loss: 13081.0791 - root_mean_squared_error: 114.3725\n",
      "Epoch 14/50\n",
      "532/532 [==============================] - 0s 497us/step - loss: 13043.3516 - root_mean_squared_error: 114.2075\n",
      "Epoch 15/50\n",
      "532/532 [==============================] - 0s 494us/step - loss: 13088.4512 - root_mean_squared_error: 114.4048\n",
      "Epoch 16/50\n",
      "532/532 [==============================] - 0s 503us/step - loss: 13184.0332 - root_mean_squared_error: 114.8217\n",
      "Epoch 17/50\n",
      "532/532 [==============================] - 0s 552us/step - loss: 13239.4072 - root_mean_squared_error: 115.0626\n",
      "Epoch 18/50\n",
      "532/532 [==============================] - 0s 510us/step - loss: 13104.0010 - root_mean_squared_error: 114.4727\n",
      "Epoch 19/50\n",
      "532/532 [==============================] - 0s 544us/step - loss: 13222.2139 - root_mean_squared_error: 114.9879\n",
      "Epoch 20/50\n",
      "532/532 [==============================] - 0s 505us/step - loss: 13111.9443 - root_mean_squared_error: 114.5074\n",
      "Epoch 21/50\n",
      "532/532 [==============================] - 0s 512us/step - loss: 13175.6895 - root_mean_squared_error: 114.7854\n",
      "Epoch 22/50\n",
      "532/532 [==============================] - 0s 526us/step - loss: 13161.4932 - root_mean_squared_error: 114.7235\n",
      "Epoch 23/50\n",
      "532/532 [==============================] - 0s 560us/step - loss: 13132.8105 - root_mean_squared_error: 114.5985\n",
      "Epoch 24/50\n",
      "532/532 [==============================] - 0s 543us/step - loss: 13272.2725 - root_mean_squared_error: 115.2054\n",
      "Epoch 25/50\n",
      "532/532 [==============================] - 0s 501us/step - loss: 13226.7461 - root_mean_squared_error: 115.0076\n",
      "Epoch 26/50\n",
      "532/532 [==============================] - 0s 493us/step - loss: 13347.5703 - root_mean_squared_error: 115.5317\n",
      "Epoch 27/50\n",
      "532/532 [==============================] - 0s 521us/step - loss: 13164.4756 - root_mean_squared_error: 114.7365\n",
      "Epoch 28/50\n",
      "532/532 [==============================] - 0s 549us/step - loss: 13218.3916 - root_mean_squared_error: 114.9713\n",
      "Epoch 29/50\n",
      "532/532 [==============================] - 0s 520us/step - loss: 13220.6240 - root_mean_squared_error: 114.9810\n",
      "Epoch 30/50\n",
      "532/532 [==============================] - 0s 495us/step - loss: 13148.7266 - root_mean_squared_error: 114.6679\n",
      "Epoch 31/50\n",
      "532/532 [==============================] - 0s 499us/step - loss: 13107.6162 - root_mean_squared_error: 114.4885\n",
      "Epoch 32/50\n",
      "532/532 [==============================] - 0s 501us/step - loss: 13176.8369 - root_mean_squared_error: 114.7904\n",
      "Epoch 33/50\n",
      "532/532 [==============================] - 0s 492us/step - loss: 13169.3926 - root_mean_squared_error: 114.7580\n",
      "Epoch 34/50\n",
      "532/532 [==============================] - 0s 588us/step - loss: 13187.8584 - root_mean_squared_error: 114.8384\n",
      "Epoch 35/50\n",
      "532/532 [==============================] - 0s 553us/step - loss: 13210.2188 - root_mean_squared_error: 114.9357\n",
      "Epoch 36/50\n",
      "532/532 [==============================] - 0s 567us/step - loss: 13155.8477 - root_mean_squared_error: 114.6989\n",
      "Epoch 37/50\n",
      "532/532 [==============================] - 0s 501us/step - loss: 13112.7588 - root_mean_squared_error: 114.5110\n",
      "Epoch 38/50\n",
      "532/532 [==============================] - 0s 542us/step - loss: 13146.9170 - root_mean_squared_error: 114.6600\n",
      "Epoch 39/50\n",
      "532/532 [==============================] - 0s 508us/step - loss: 13169.2070 - root_mean_squared_error: 114.7572\n",
      "Epoch 40/50\n",
      "532/532 [==============================] - 0s 534us/step - loss: 13113.6162 - root_mean_squared_error: 114.5147\n",
      "Epoch 41/50\n",
      "532/532 [==============================] - 0s 527us/step - loss: 13172.1104 - root_mean_squared_error: 114.7698\n",
      "Epoch 42/50\n",
      "532/532 [==============================] - 0s 520us/step - loss: 13159.3916 - root_mean_squared_error: 114.7144\n",
      "Epoch 43/50\n",
      "532/532 [==============================] - 0s 516us/step - loss: 13175.5918 - root_mean_squared_error: 114.7850\n",
      "Epoch 44/50\n",
      "532/532 [==============================] - 0s 505us/step - loss: 13164.2461 - root_mean_squared_error: 114.7355\n",
      "Epoch 45/50\n",
      "532/532 [==============================] - 0s 511us/step - loss: 13143.8057 - root_mean_squared_error: 114.6464\n",
      "Epoch 46/50\n",
      "532/532 [==============================] - 0s 503us/step - loss: 13127.5195 - root_mean_squared_error: 114.5754\n",
      "Epoch 47/50\n",
      "532/532 [==============================] - 0s 498us/step - loss: 13149.9268 - root_mean_squared_error: 114.6731\n",
      "Epoch 48/50\n",
      "532/532 [==============================] - 0s 492us/step - loss: 13084.4082 - root_mean_squared_error: 114.3871\n",
      "Epoch 49/50\n",
      "532/532 [==============================] - 0s 499us/step - loss: 13230.9727 - root_mean_squared_error: 115.0260\n",
      "Epoch 50/50\n",
      "532/532 [==============================] - 0s 502us/step - loss: 13226.9277 - root_mean_squared_error: 115.0084\n"
     ]
    },
    {
     "data": {
      "image/png": "[encoded data removed]",
      "text/plain": [
       "<Figure size 432x288 with 1 Axes>"
      ]
     },
     "metadata": {
      "needs_background": "light"
     },
     "output_type": "display_data"
    },
    {
     "name": "stdout",
     "output_type": "stream",
     "text": [
      "feature   label          predicted\n",
      "  value   value          value\n",
      "          in thousand$   in thousand$\n",
      "--------------------------------------\n",
      "    6     67             189\n",
      "    7     80             199\n",
      "    2     86             194\n",
      "    3     73             208\n",
      "    2     66             187\n",
      "    2     74             220\n",
      "    2     82             207\n",
      "    2     48             218\n",
      "    2     58             273\n",
      "    2     48             210\n",
      "    2     86             219\n",
      "    2     62             228\n",
      "    2     49             220\n",
      "    2     70             215\n",
      "    2     45             208\n"
     ]
    }
   ],
   "source": [
    "# Define a synthetic feature named rooms_per_person\n",
    "training_df[\"rooms_per_person\"] = training_df['total_rooms'] / training_df['population'] # write your code here.\n",
    "\n",
    "# Don't change the next two lines.\n",
    "my_feature = \"rooms_per_person\"\n",
    "my_label=\"median_house_value\" \n",
    "\n",
    "# Assign values to these three hyperparameters.\n",
    "learning_rate = .5\n",
    "epochs = 50\n",
    "batch_size = 100\n",
    "\n",
    "# Don't change anything below this line.\n",
    "my_model = build_model(learning_rate)\n",
    "weight, bias, epochs, rmse = train_model(my_model, training_df,\n",
    "                                         my_feature, my_label,\n",
    "                                         epochs, batch_size)\n",
    "\n",
    "plot_the_loss_curve(epochs, rmse)\n",
    "predict_house_values(15, my_feature, my_label)"
   ]
  },
  {
   "cell_type": "code",
   "execution_count": 18,
   "metadata": {
    "cellView": "form",
    "colab": {},
    "colab_type": "code",
    "id": "xRfxp_3yofe3"
   },
   "outputs": [
    {
     "name": "stderr",
     "output_type": "stream",
     "text": [
      "/Users/F445103/mlcc-exercises/jupyter-env/lib/python3.8/site-packages/tensorflow/python/keras/optimizer_v2/optimizer_v2.py:374: UserWarning: The `lr` argument is deprecated, use `learning_rate` instead.\n",
      "  warnings.warn(\n"
     ]
    },
    {
     "name": "stdout",
     "output_type": "stream",
     "text": [
      "Epoch 1/24\n",
      "532/532 [==============================] - 1s 536us/step - loss: 38282.7188 - root_mean_squared_error: 195.6597\n",
      "Epoch 2/24\n",
      "532/532 [==============================] - 0s 495us/step - loss: 19842.2051 - root_mean_squared_error: 140.8624\n",
      "Epoch 3/24\n",
      "532/532 [==============================] - 0s 502us/step - loss: 15385.5039 - root_mean_squared_error: 124.0383\n",
      "Epoch 4/24\n",
      "532/532 [==============================] - 0s 556us/step - loss: 14915.4287 - root_mean_squared_error: 122.1287\n",
      "Epoch 5/24\n",
      "532/532 [==============================] - 0s 534us/step - loss: 14750.6553 - root_mean_squared_error: 121.4523\n",
      "Epoch 6/24\n",
      "532/532 [==============================] - 0s 526us/step - loss: 14546.4209 - root_mean_squared_error: 120.6085\n",
      "Epoch 7/24\n",
      "532/532 [==============================] - 0s 503us/step - loss: 14362.4287 - root_mean_squared_error: 119.8434\n",
      "Epoch 8/24\n",
      "532/532 [==============================] - 0s 489us/step - loss: 14216.4424 - root_mean_squared_error: 119.2327\n",
      "Epoch 9/24\n",
      "532/532 [==============================] - 0s 533us/step - loss: 14093.1465 - root_mean_squared_error: 118.7146\n",
      "Epoch 10/24\n",
      "532/532 [==============================] - 0s 489us/step - loss: 14003.1094 - root_mean_squared_error: 118.3347\n",
      "Epoch 11/24\n",
      "532/532 [==============================] - 0s 481us/step - loss: 13900.2715 - root_mean_squared_error: 117.8994\n",
      "Epoch 12/24\n",
      "532/532 [==============================] - 0s 487us/step - loss: 13872.6484 - root_mean_squared_error: 117.7822\n",
      "Epoch 13/24\n",
      "532/532 [==============================] - 0s 486us/step - loss: 13759.7373 - root_mean_squared_error: 117.3019\n",
      "Epoch 14/24\n",
      "532/532 [==============================] - 0s 481us/step - loss: 13677.1504 - root_mean_squared_error: 116.9493\n",
      "Epoch 15/24\n",
      "532/532 [==============================] - 0s 487us/step - loss: 13615.9082 - root_mean_squared_error: 116.6872\n",
      "Epoch 16/24\n",
      "532/532 [==============================] - 0s 516us/step - loss: 13559.3984 - root_mean_squared_error: 116.4448\n",
      "Epoch 17/24\n",
      "532/532 [==============================] - 0s 491us/step - loss: 13550.9482 - root_mean_squared_error: 116.4085\n",
      "Epoch 18/24\n",
      "532/532 [==============================] - 0s 532us/step - loss: 13475.0000 - root_mean_squared_error: 116.0819\n",
      "Epoch 19/24\n",
      "532/532 [==============================] - 0s 542us/step - loss: 13455.8750 - root_mean_squared_error: 115.9995\n",
      "Epoch 20/24\n",
      "532/532 [==============================] - 0s 517us/step - loss: 13409.4238 - root_mean_squared_error: 115.7991\n",
      "Epoch 21/24\n",
      "532/532 [==============================] - 0s 531us/step - loss: 13402.0127 - root_mean_squared_error: 115.7671\n",
      "Epoch 22/24\n",
      "532/532 [==============================] - 0s 524us/step - loss: 13369.8145 - root_mean_squared_error: 115.6279\n",
      "Epoch 23/24\n",
      "532/532 [==============================] - 0s 622us/step - loss: 13376.7666 - root_mean_squared_error: 115.6580\n",
      "Epoch 24/24\n",
      "532/532 [==============================] - 0s 557us/step - loss: 13356.1953 - root_mean_squared_error: 115.5690\n"
     ]
    },
    {
     "data": {
      "image/png": "[encoded data removed]",
      "text/plain": [
       "<Figure size 432x288 with 1 Axes>"
      ]
     },
     "metadata": {
      "needs_background": "light"
     },
     "output_type": "display_data"
    },
    {
     "name": "stdout",
     "output_type": "stream",
     "text": [
      "WARNING:tensorflow:5 out of the last 8 calls to <function Model.make_predict_function.<locals>.predict_function at 0x7fbaada61820> triggered tf.function retracing. Tracing is expensive and the excessive number of tracings could be due to (1) creating @tf.function repeatedly in a loop, (2) passing tensors with different shapes, (3) passing Python objects instead of tensors. For (1), please define your @tf.function outside of the loop. For (2), @tf.function has experimental_relax_shapes=True option that relaxes argument shapes that can avoid unnecessary retracing. For (3), please refer to https://www.tensorflow.org/guide/function#controlling_retracing and https://www.tensorflow.org/api_docs/python/tf/function for  more details.\n",
      "feature   label          predicted\n",
      "  value   value          value\n",
      "          in thousand$   in thousand$\n",
      "--------------------------------------\n",
      "    6     67             190\n",
      "    7     80             202\n",
      "    2     86             196\n",
      "    3     73             212\n",
      "    2     66             188\n",
      "    2     74             226\n",
      "    2     82             211\n",
      "    2     48             224\n",
      "    2     58             288\n",
      "    2     48             215\n",
      "    2     86             225\n",
      "    2     62             235\n",
      "    2     49             226\n",
      "    2     70             220\n",
      "    2     45             212\n"
     ]
    }
   ],
   "source": [
    "#@title Double-click to view a possible solution to Task 4.\n",
    "\n",
    "# Define a synthetic feature\n",
    "training_df[\"rooms_per_person\"] = training_df[\"total_rooms\"] / training_df[\"population\"]\n",
    "my_feature = \"rooms_per_person\"\n",
    "my_label=\"median_house_value\" \n",
    "\n",
    "# Tune the hyperparameters.\n",
    "learning_rate = 0.06\n",
    "epochs = 24\n",
    "batch_size = 30\n",
    "\n",
    "# Don't change anything below this line.\n",
    "my_model = build_model(learning_rate)\n",
    "weight, bias, epochs, mae = train_model(my_model, training_df,\n",
    "                                        my_feature, my_label,\n",
    "                                        epochs, batch_size)\n",
    "\n",
    "plot_the_loss_curve(epochs, mae)\n",
    "predict_house_values(15, my_feature, my_label)\n"
   ]
  },
  {
   "cell_type": "markdown",
   "metadata": {
    "colab_type": "text",
    "id": "HBiDWursB1Wi"
   },
   "source": [
    "Based on the loss values, this synthetic feature produces a better model than the individual features you tried in Task 2 and Task 3. However, the model still isn't creating great predictions.\n"
   ]
  },
  {
   "cell_type": "markdown",
   "metadata": {
    "colab_type": "text",
    "id": "XEG_9oU9O54u"
   },
   "source": [
    "## Task 5. Find feature(s) whose raw values correlate with the label\n",
    "\n",
    "So far, we've relied on trial-and-error to identify possible features for the model.  Let's rely on statistics instead.\n",
    "\n",
    "A **correlation matrix** indicates how each attribute's raw values relate to the other attributes' raw values. Correlation values have the following meanings:\n",
    "\n",
    "  * `1.0`: perfect positive correlation; that is, when one attribute rises, the other attribute rises.\n",
    "  * `-1.0`: perfect negative correlation; that is, when one attribute rises, the other attribute falls. \n",
    "  * `0.0`: no correlation; the two column's [are not linearly related](https://en.wikipedia.org/wiki/Correlation_and_dependence#/media/File:Correlation_examples2.svg).\n",
    "\n",
    "In general, the higher the absolute value of a correlation value, the greater its predictive power. For example, a correlation value of -0.8 implies far more predictive power than a correlation of -0.2.\n",
    "\n",
    "The following code cell generates the correlation matrix for attributes of the California Housing Dataset:"
   ]
  },
  {
   "cell_type": "code",
   "execution_count": 19,
   "metadata": {
    "colab": {},
    "colab_type": "code",
    "id": "zFGKL45LO8Tt"
   },
   "outputs": [
    {
     "data": {
      "text/html": [
       "<div>\n",
       "<style scoped>\n",
       "    .dataframe tbody tr th:only-of-type {\n",
       "        vertical-align: middle;\n",
       "    }\n",
       "\n",
       "    .dataframe tbody tr th {\n",
       "        vertical-align: top;\n",
       "    }\n",
       "\n",
       "    .dataframe thead th {\n",
       "        text-align: right;\n",
       "    }\n",
       "</style>\n",
       "<table border=\"1\" class=\"dataframe\">\n",
       "  <thead>\n",
       "    <tr style=\"text-align: right;\">\n",
       "      <th></th>\n",
       "      <th>longitude</th>\n",
       "      <th>latitude</th>\n",
       "      <th>housing_median_age</th>\n",
       "      <th>total_rooms</th>\n",
       "      <th>total_bedrooms</th>\n",
       "      <th>population</th>\n",
       "      <th>households</th>\n",
       "      <th>median_income</th>\n",
       "      <th>median_house_value</th>\n",
       "      <th>rooms_per_person</th>\n",
       "    </tr>\n",
       "  </thead>\n",
       "  <tbody>\n",
       "    <tr>\n",
       "      <th>longitude</th>\n",
       "      <td>1.0</td>\n",
       "      <td>-0.9</td>\n",
       "      <td>-0.1</td>\n",
       "      <td>0.0</td>\n",
       "      <td>0.1</td>\n",
       "      <td>0.1</td>\n",
       "      <td>0.1</td>\n",
       "      <td>-0.0</td>\n",
       "      <td>-0.0</td>\n",
       "      <td>-0.1</td>\n",
       "    </tr>\n",
       "    <tr>\n",
       "      <th>latitude</th>\n",
       "      <td>-0.9</td>\n",
       "      <td>1.0</td>\n",
       "      <td>0.0</td>\n",
       "      <td>-0.0</td>\n",
       "      <td>-0.1</td>\n",
       "      <td>-0.1</td>\n",
       "      <td>-0.1</td>\n",
       "      <td>-0.1</td>\n",
       "      <td>-0.1</td>\n",
       "      <td>0.1</td>\n",
       "    </tr>\n",
       "    <tr>\n",
       "      <th>housing_median_age</th>\n",
       "      <td>-0.1</td>\n",
       "      <td>0.0</td>\n",
       "      <td>1.0</td>\n",
       "      <td>-0.4</td>\n",
       "      <td>-0.3</td>\n",
       "      <td>-0.3</td>\n",
       "      <td>-0.3</td>\n",
       "      <td>-0.1</td>\n",
       "      <td>0.1</td>\n",
       "      <td>-0.1</td>\n",
       "    </tr>\n",
       "    <tr>\n",
       "      <th>total_rooms</th>\n",
       "      <td>0.0</td>\n",
       "      <td>-0.0</td>\n",
       "      <td>-0.4</td>\n",
       "      <td>1.0</td>\n",
       "      <td>0.9</td>\n",
       "      <td>0.9</td>\n",
       "      <td>0.9</td>\n",
       "      <td>0.2</td>\n",
       "      <td>0.1</td>\n",
       "      <td>0.1</td>\n",
       "    </tr>\n",
       "    <tr>\n",
       "      <th>total_bedrooms</th>\n",
       "      <td>0.1</td>\n",
       "      <td>-0.1</td>\n",
       "      <td>-0.3</td>\n",
       "      <td>0.9</td>\n",
       "      <td>1.0</td>\n",
       "      <td>0.9</td>\n",
       "      <td>1.0</td>\n",
       "      <td>-0.0</td>\n",
       "      <td>0.0</td>\n",
       "      <td>0.0</td>\n",
       "    </tr>\n",
       "    <tr>\n",
       "      <th>population</th>\n",
       "      <td>0.1</td>\n",
       "      <td>-0.1</td>\n",
       "      <td>-0.3</td>\n",
       "      <td>0.9</td>\n",
       "      <td>0.9</td>\n",
       "      <td>1.0</td>\n",
       "      <td>0.9</td>\n",
       "      <td>-0.0</td>\n",
       "      <td>-0.0</td>\n",
       "      <td>-0.1</td>\n",
       "    </tr>\n",
       "    <tr>\n",
       "      <th>households</th>\n",
       "      <td>0.1</td>\n",
       "      <td>-0.1</td>\n",
       "      <td>-0.3</td>\n",
       "      <td>0.9</td>\n",
       "      <td>1.0</td>\n",
       "      <td>0.9</td>\n",
       "      <td>1.0</td>\n",
       "      <td>0.0</td>\n",
       "      <td>0.1</td>\n",
       "      <td>-0.0</td>\n",
       "    </tr>\n",
       "    <tr>\n",
       "      <th>median_income</th>\n",
       "      <td>-0.0</td>\n",
       "      <td>-0.1</td>\n",
       "      <td>-0.1</td>\n",
       "      <td>0.2</td>\n",
       "      <td>-0.0</td>\n",
       "      <td>-0.0</td>\n",
       "      <td>0.0</td>\n",
       "      <td>1.0</td>\n",
       "      <td>0.7</td>\n",
       "      <td>0.2</td>\n",
       "    </tr>\n",
       "    <tr>\n",
       "      <th>median_house_value</th>\n",
       "      <td>-0.0</td>\n",
       "      <td>-0.1</td>\n",
       "      <td>0.1</td>\n",
       "      <td>0.1</td>\n",
       "      <td>0.0</td>\n",
       "      <td>-0.0</td>\n",
       "      <td>0.1</td>\n",
       "      <td>0.7</td>\n",
       "      <td>1.0</td>\n",
       "      <td>0.2</td>\n",
       "    </tr>\n",
       "    <tr>\n",
       "      <th>rooms_per_person</th>\n",
       "      <td>-0.1</td>\n",
       "      <td>0.1</td>\n",
       "      <td>-0.1</td>\n",
       "      <td>0.1</td>\n",
       "      <td>0.0</td>\n",
       "      <td>-0.1</td>\n",
       "      <td>-0.0</td>\n",
       "      <td>0.2</td>\n",
       "      <td>0.2</td>\n",
       "      <td>1.0</td>\n",
       "    </tr>\n",
       "  </tbody>\n",
       "</table>\n",
       "</div>"
      ],
      "text/plain": [
       "                    longitude  latitude  housing_median_age  total_rooms  \\\n",
       "longitude                 1.0      -0.9                -0.1          0.0   \n",
       "latitude                 -0.9       1.0                 0.0         -0.0   \n",
       "housing_median_age       -0.1       0.0                 1.0         -0.4   \n",
       "total_rooms               0.0      -0.0                -0.4          1.0   \n",
       "total_bedrooms            0.1      -0.1                -0.3          0.9   \n",
       "population                0.1      -0.1                -0.3          0.9   \n",
       "households                0.1      -0.1                -0.3          0.9   \n",
       "median_income            -0.0      -0.1                -0.1          0.2   \n",
       "median_house_value       -0.0      -0.1                 0.1          0.1   \n",
       "rooms_per_person         -0.1       0.1                -0.1          0.1   \n",
       "\n",
       "                    total_bedrooms  population  households  median_income  \\\n",
       "longitude                      0.1         0.1         0.1           -0.0   \n",
       "latitude                      -0.1        -0.1        -0.1           -0.1   \n",
       "housing_median_age            -0.3        -0.3        -0.3           -0.1   \n",
       "total_rooms                    0.9         0.9         0.9            0.2   \n",
       "total_bedrooms                 1.0         0.9         1.0           -0.0   \n",
       "population                     0.9         1.0         0.9           -0.0   \n",
       "households                     1.0         0.9         1.0            0.0   \n",
       "median_income                 -0.0        -0.0         0.0            1.0   \n",
       "median_house_value             0.0        -0.0         0.1            0.7   \n",
       "rooms_per_person               0.0        -0.1        -0.0            0.2   \n",
       "\n",
       "                    median_house_value  rooms_per_person  \n",
       "longitude                         -0.0              -0.1  \n",
       "latitude                          -0.1               0.1  \n",
       "housing_median_age                 0.1              -0.1  \n",
       "total_rooms                        0.1               0.1  \n",
       "total_bedrooms                     0.0               0.0  \n",
       "population                        -0.0              -0.1  \n",
       "households                         0.1              -0.0  \n",
       "median_income                      0.7               0.2  \n",
       "median_house_value                 1.0               0.2  \n",
       "rooms_per_person                   0.2               1.0  "
      ]
     },
     "execution_count": 19,
     "metadata": {},
     "output_type": "execute_result"
    }
   ],
   "source": [
    "# Generate a correlation matrix.\n",
    "training_df.corr()"
   ]
  },
  {
   "cell_type": "markdown",
   "metadata": {
    "colab_type": "text",
    "id": "hp0r3NAVPEdt"
   },
   "source": [
    "The correlation matrix shows nine potential features (including a synthetic\n",
    "feature) and one label (`median_house_value`).  A strong negative correlation or strong positive correlation with the label suggests a potentially good feature.  \n",
    "\n",
    "**Your Task:** Determine which of the nine potential features appears to be the best candidate for a feature?"
   ]
  },
  {
   "cell_type": "code",
   "execution_count": 0,
   "metadata": {
    "cellView": "form",
    "colab": {},
    "colab_type": "code",
    "id": "RomQTd1OPVd0"
   },
   "outputs": [],
   "source": [
    "#@title Double-click here for the solution to Task 5\n",
    "\n",
    "# The `median_income` correlates 0.7 with the label \n",
    "# (median_house_value), so median_income` might be a \n",
    "# good feature. The other seven potential features\n",
    "# all have a correlation relatively close to 0. \n",
    "\n",
    "# If time permits, try median_income as the feature\n",
    "# and see whether the model improves."
   ]
  },
  {
   "cell_type": "markdown",
   "metadata": {
    "colab_type": "text",
    "id": "8RqvEbaVSlRt"
   },
   "source": [
    "Correlation matrices don't tell the entire story. In later exercises, you'll find additional ways to unlock predictive power from potential features.\n",
    "\n",
    "**Note:** Using `median_income` as a feature may raise some ethical and fairness\n",
    "issues. Towards the end of the course, we'll explore ethical and fairness issues."
   ]
  }
 ],
 "metadata": {
  "colab": {
   "collapsed_sections": [],
   "name": "Linear Regression with a Real Dataset.ipynb",
   "private_outputs": true,
   "provenance": []
  },
  "kernelspec": {
   "display_name": "jupyter-env",
   "language": "python",
   "name": "jupyter-env"
  },
  "language_info": {
   "codemirror_mode": {
    "name": "ipython",
    "version": 3
   },
   "file_extension": ".py",
   "mimetype": "text/x-python",
   "name": "python",
   "nbconvert_exporter": "python",
   "pygments_lexer": "ipython3",
   "version": "3.8.5"
  }
 },
 "nbformat": 4,
 "nbformat_minor": 1
}
